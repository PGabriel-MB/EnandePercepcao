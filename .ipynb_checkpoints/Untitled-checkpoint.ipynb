{
 "cells": [
  {
   "cell_type": "code",
   "execution_count": 4,
   "metadata": {},
   "outputs": [],
   "source": [
    "# Pablo Gabriel Rufino Barbosa                 3º Semestre Turma B\n",
    "import pandas as pd\n",
    "import numpy as np\n",
    "low_memory=False\n",
    "%matplotlib inline\n",
    "\n",
    "#Dados do Enade de 2017"
   ]
  },
  {
   "cell_type": "code",
   "execution_count": null,
   "metadata": {},
   "outputs": [],
   "source": []
  },
  {
   "cell_type": "code",
   "execution_count": 5,
   "metadata": {},
   "outputs": [
    {
     "data": {
      "text/html": [
       "<div>\n",
       "<style scoped>\n",
       "    .dataframe tbody tr th:only-of-type {\n",
       "        vertical-align: middle;\n",
       "    }\n",
       "\n",
       "    .dataframe tbody tr th {\n",
       "        vertical-align: top;\n",
       "    }\n",
       "\n",
       "    .dataframe thead th {\n",
       "        text-align: right;\n",
       "    }\n",
       "</style>\n",
       "<table border=\"1\" class=\"dataframe\">\n",
       "  <thead>\n",
       "    <tr style=\"text-align: right;\">\n",
       "      <th></th>\n",
       "      <th>CO_RS_I1</th>\n",
       "      <th>CO_RS_I2</th>\n",
       "      <th>CO_RS_I3</th>\n",
       "      <th>CO_RS_I4</th>\n",
       "      <th>CO_RS_I5</th>\n",
       "      <th>CO_RS_I7</th>\n",
       "      <th>CO_RS_I9</th>\n",
       "    </tr>\n",
       "  </thead>\n",
       "  <tbody>\n",
       "    <tr>\n",
       "      <th>433296</th>\n",
       "      <td>C</td>\n",
       "      <td>D</td>\n",
       "      <td>C</td>\n",
       "      <td>B</td>\n",
       "      <td>B</td>\n",
       "      <td>A</td>\n",
       "      <td>B</td>\n",
       "    </tr>\n",
       "    <tr>\n",
       "      <th>156715</th>\n",
       "      <td>D</td>\n",
       "      <td>D</td>\n",
       "      <td>A</td>\n",
       "      <td>B</td>\n",
       "      <td>A</td>\n",
       "      <td>D</td>\n",
       "      <td>C</td>\n",
       "    </tr>\n",
       "    <tr>\n",
       "      <th>247050</th>\n",
       "      <td>B</td>\n",
       "      <td>C</td>\n",
       "      <td>C</td>\n",
       "      <td>B</td>\n",
       "      <td>B</td>\n",
       "      <td>B</td>\n",
       "      <td>C</td>\n",
       "    </tr>\n",
       "    <tr>\n",
       "      <th>173365</th>\n",
       "      <td>E</td>\n",
       "      <td>C</td>\n",
       "      <td>E</td>\n",
       "      <td>E</td>\n",
       "      <td>B</td>\n",
       "      <td>B</td>\n",
       "      <td>E</td>\n",
       "    </tr>\n",
       "    <tr>\n",
       "      <th>295290</th>\n",
       "      <td>.</td>\n",
       "      <td>.</td>\n",
       "      <td>.</td>\n",
       "      <td>.</td>\n",
       "      <td>.</td>\n",
       "      <td>.</td>\n",
       "      <td>.</td>\n",
       "    </tr>\n",
       "    <tr>\n",
       "      <th>66298</th>\n",
       "      <td>C</td>\n",
       "      <td>C</td>\n",
       "      <td>B</td>\n",
       "      <td>B</td>\n",
       "      <td>A</td>\n",
       "      <td>B</td>\n",
       "      <td>C</td>\n",
       "    </tr>\n",
       "    <tr>\n",
       "      <th>388766</th>\n",
       "      <td>C</td>\n",
       "      <td>C</td>\n",
       "      <td>C</td>\n",
       "      <td>A</td>\n",
       "      <td>A</td>\n",
       "      <td>B</td>\n",
       "      <td>C</td>\n",
       "    </tr>\n",
       "    <tr>\n",
       "      <th>154683</th>\n",
       "      <td>C</td>\n",
       "      <td>C</td>\n",
       "      <td>C</td>\n",
       "      <td>D</td>\n",
       "      <td>D</td>\n",
       "      <td>B</td>\n",
       "      <td>C</td>\n",
       "    </tr>\n",
       "    <tr>\n",
       "      <th>290720</th>\n",
       "      <td>.</td>\n",
       "      <td>.</td>\n",
       "      <td>.</td>\n",
       "      <td>.</td>\n",
       "      <td>.</td>\n",
       "      <td>.</td>\n",
       "      <td>.</td>\n",
       "    </tr>\n",
       "    <tr>\n",
       "      <th>268833</th>\n",
       "      <td>C</td>\n",
       "      <td>C</td>\n",
       "      <td>B</td>\n",
       "      <td>B</td>\n",
       "      <td>B</td>\n",
       "      <td>E</td>\n",
       "      <td>E</td>\n",
       "    </tr>\n",
       "  </tbody>\n",
       "</table>\n",
       "</div>"
      ],
      "text/plain": [
       "       CO_RS_I1 CO_RS_I2 CO_RS_I3 CO_RS_I4 CO_RS_I5 CO_RS_I7 CO_RS_I9\n",
       "433296        C        D        C        B        B        A        B\n",
       "156715        D        D        A        B        A        D        C\n",
       "247050        B        C        C        B        B        B        C\n",
       "173365        E        C        E        E        B        B        E\n",
       "295290        .        .        .        .        .        .        .\n",
       "66298         C        C        B        B        A        B        C\n",
       "388766        C        C        C        A        A        B        C\n",
       "154683        C        C        C        D        D        B        C\n",
       "290720        .        .        .        .        .        .        .\n",
       "268833        C        C        B        B        B        E        E"
      ]
     },
     "execution_count": 5,
     "metadata": {},
     "output_type": "execute_result"
    }
   ],
   "source": [
    "filename = 'new_csv.csv'\n",
    "df = pd.read_csv(filename, encoding='utf-8', sep=';') \n",
    "df.sample(10)"
   ]
  },
  {
   "cell_type": "code",
   "execution_count": 6,
   "metadata": {},
   "outputs": [
    {
     "data": {
      "text/html": [
       "<div>\n",
       "<style scoped>\n",
       "    .dataframe tbody tr th:only-of-type {\n",
       "        vertical-align: middle;\n",
       "    }\n",
       "\n",
       "    .dataframe tbody tr th {\n",
       "        vertical-align: top;\n",
       "    }\n",
       "\n",
       "    .dataframe thead th {\n",
       "        text-align: right;\n",
       "    }\n",
       "</style>\n",
       "<table border=\"1\" class=\"dataframe\">\n",
       "  <thead>\n",
       "    <tr style=\"text-align: right;\">\n",
       "      <th></th>\n",
       "      <th>DIFICULDADE_PARTE_FORMACAO_GERAL</th>\n",
       "      <th>DIFICULDADE_PARTE_COMPONENTE_ESPECIFICO</th>\n",
       "      <th>EXTENSÃO_PROVA_x_TEMPO_TOTAL</th>\n",
       "      <th>ENUNCIADOS_CLAROS_PARTE_GERAL</th>\n",
       "      <th>ENUNCIADOS_CLAROS_PARTE_COMPONENTE_ESPECÍFICO</th>\n",
       "      <th>DIFICULDADE_PARA_RESPONDER</th>\n",
       "      <th>TEMPO_PROVA_GASTO</th>\n",
       "    </tr>\n",
       "  </thead>\n",
       "  <tbody>\n",
       "    <tr>\n",
       "      <th>0</th>\n",
       "      <td>C</td>\n",
       "      <td>D</td>\n",
       "      <td>D</td>\n",
       "      <td>B</td>\n",
       "      <td>C</td>\n",
       "      <td>B</td>\n",
       "      <td>C</td>\n",
       "    </tr>\n",
       "    <tr>\n",
       "      <th>1</th>\n",
       "      <td>D</td>\n",
       "      <td>E</td>\n",
       "      <td>A</td>\n",
       "      <td>C</td>\n",
       "      <td>D</td>\n",
       "      <td>A</td>\n",
       "      <td>D</td>\n",
       "    </tr>\n",
       "    <tr>\n",
       "      <th>2</th>\n",
       "      <td>D</td>\n",
       "      <td>B</td>\n",
       "      <td>A</td>\n",
       "      <td>B</td>\n",
       "      <td>B</td>\n",
       "      <td>D</td>\n",
       "      <td>A</td>\n",
       "    </tr>\n",
       "    <tr>\n",
       "      <th>3</th>\n",
       "      <td>B</td>\n",
       "      <td>C</td>\n",
       "      <td>C</td>\n",
       "      <td>B</td>\n",
       "      <td>B</td>\n",
       "      <td>D</td>\n",
       "      <td>B</td>\n",
       "    </tr>\n",
       "    <tr>\n",
       "      <th>4</th>\n",
       "      <td>C</td>\n",
       "      <td>C</td>\n",
       "      <td>C</td>\n",
       "      <td>B</td>\n",
       "      <td>B</td>\n",
       "      <td>D</td>\n",
       "      <td>B</td>\n",
       "    </tr>\n",
       "    <tr>\n",
       "      <th>...</th>\n",
       "      <td>...</td>\n",
       "      <td>...</td>\n",
       "      <td>...</td>\n",
       "      <td>...</td>\n",
       "      <td>...</td>\n",
       "      <td>...</td>\n",
       "      <td>...</td>\n",
       "    </tr>\n",
       "    <tr>\n",
       "      <th>537431</th>\n",
       "      <td>.</td>\n",
       "      <td>.</td>\n",
       "      <td>.</td>\n",
       "      <td>.</td>\n",
       "      <td>.</td>\n",
       "      <td>.</td>\n",
       "      <td>.</td>\n",
       "    </tr>\n",
       "    <tr>\n",
       "      <th>537432</th>\n",
       "      <td>.</td>\n",
       "      <td>.</td>\n",
       "      <td>.</td>\n",
       "      <td>.</td>\n",
       "      <td>.</td>\n",
       "      <td>.</td>\n",
       "      <td>.</td>\n",
       "    </tr>\n",
       "    <tr>\n",
       "      <th>537433</th>\n",
       "      <td>.</td>\n",
       "      <td>.</td>\n",
       "      <td>.</td>\n",
       "      <td>.</td>\n",
       "      <td>.</td>\n",
       "      <td>.</td>\n",
       "      <td>.</td>\n",
       "    </tr>\n",
       "    <tr>\n",
       "      <th>537434</th>\n",
       "      <td>.</td>\n",
       "      <td>.</td>\n",
       "      <td>.</td>\n",
       "      <td>.</td>\n",
       "      <td>.</td>\n",
       "      <td>.</td>\n",
       "      <td>.</td>\n",
       "    </tr>\n",
       "    <tr>\n",
       "      <th>537435</th>\n",
       "      <td>.</td>\n",
       "      <td>.</td>\n",
       "      <td>.</td>\n",
       "      <td>.</td>\n",
       "      <td>.</td>\n",
       "      <td>.</td>\n",
       "      <td>.</td>\n",
       "    </tr>\n",
       "  </tbody>\n",
       "</table>\n",
       "<p>537436 rows × 7 columns</p>\n",
       "</div>"
      ],
      "text/plain": [
       "       DIFICULDADE_PARTE_FORMACAO_GERAL  \\\n",
       "0                                     C   \n",
       "1                                     D   \n",
       "2                                     D   \n",
       "3                                     B   \n",
       "4                                     C   \n",
       "...                                 ...   \n",
       "537431                                .   \n",
       "537432                                .   \n",
       "537433                                .   \n",
       "537434                                .   \n",
       "537435                                .   \n",
       "\n",
       "       DIFICULDADE_PARTE_COMPONENTE_ESPECIFICO EXTENSÃO_PROVA_x_TEMPO_TOTAL  \\\n",
       "0                                            D                            D   \n",
       "1                                            E                            A   \n",
       "2                                            B                            A   \n",
       "3                                            C                            C   \n",
       "4                                            C                            C   \n",
       "...                                        ...                          ...   \n",
       "537431                                       .                            .   \n",
       "537432                                       .                            .   \n",
       "537433                                       .                            .   \n",
       "537434                                       .                            .   \n",
       "537435                                       .                            .   \n",
       "\n",
       "       ENUNCIADOS_CLAROS_PARTE_GERAL  \\\n",
       "0                                  B   \n",
       "1                                  C   \n",
       "2                                  B   \n",
       "3                                  B   \n",
       "4                                  B   \n",
       "...                              ...   \n",
       "537431                             .   \n",
       "537432                             .   \n",
       "537433                             .   \n",
       "537434                             .   \n",
       "537435                             .   \n",
       "\n",
       "       ENUNCIADOS_CLAROS_PARTE_COMPONENTE_ESPECÍFICO  \\\n",
       "0                                                  C   \n",
       "1                                                  D   \n",
       "2                                                  B   \n",
       "3                                                  B   \n",
       "4                                                  B   \n",
       "...                                              ...   \n",
       "537431                                             .   \n",
       "537432                                             .   \n",
       "537433                                             .   \n",
       "537434                                             .   \n",
       "537435                                             .   \n",
       "\n",
       "       DIFICULDADE_PARA_RESPONDER TEMPO_PROVA_GASTO  \n",
       "0                               B                 C  \n",
       "1                               A                 D  \n",
       "2                               D                 A  \n",
       "3                               D                 B  \n",
       "4                               D                 B  \n",
       "...                           ...               ...  \n",
       "537431                          .                 .  \n",
       "537432                          .                 .  \n",
       "537433                          .                 .  \n",
       "537434                          .                 .  \n",
       "537435                          .                 .  \n",
       "\n",
       "[537436 rows x 7 columns]"
      ]
     },
     "execution_count": 6,
     "metadata": {},
     "output_type": "execute_result"
    }
   ],
   "source": [
    "df.rename(columns={\n",
    "    'CO_RS_I1': 'DIFICULDADE_PARTE_FORMACAO_GERAL',\n",
    "    'CO_RS_I2': 'DIFICULDADE_PARTE_COMPONENTE_ESPECIFICO',\n",
    "    'CO_RS_I3': 'EXTENSÃO_PROVA_x_TEMPO_TOTAL',\n",
    "    'CO_RS_I4': 'ENUNCIADOS_CLAROS_PARTE_GERAL',\n",
    "    'CO_RS_I5': 'ENUNCIADOS_CLAROS_PARTE_COMPONENTE_ESPECÍFICO',\n",
    "    'CO_RS_I7': 'DIFICULDADE_PARA_RESPONDER',\n",
    "    'CO_RS_I9': 'TEMPO_PROVA_GASTO'\n",
    "})"
   ]
  },
  {
   "cell_type": "code",
   "execution_count": 7,
   "metadata": {},
   "outputs": [
    {
     "data": {
      "text/plain": [
       "<matplotlib.axes._subplots.AxesSubplot at 0x7fd0178b1518>"
      ]
     },
     "execution_count": 7,
     "metadata": {},
     "output_type": "execute_result"
    },
    {
     "data": {
      "image/png": "[encoded data removed]",
      "text/plain": [
       "<Figure size 432x288 with 1 Axes>"
      ]
     },
     "metadata": {
      "needs_background": "light"
     },
     "output_type": "display_data"
    }
   ],
   "source": [
    "# Dificuldade em realizar as questões sobre 'Formação Geral'\n",
    "df.groupby('CO_RS_I1').size().sort_values().plot(kind='barh')\n",
    "\n",
    "# A - Muito Fácil\n",
    "# B - Fácil\n",
    "# C - Médio\n",
    "# D - Difícil\n",
    "# E - Muito Difíl\n",
    "# * - Anulada\n",
    "# . - Não Respondeu"
   ]
  },
  {
   "cell_type": "code",
   "execution_count": 19,
   "metadata": {},
   "outputs": [
    {
     "data": {
      "text/plain": [
       "<matplotlib.axes._subplots.AxesSubplot at 0x7f4f943af400>"
      ]
     },
     "execution_count": 19,
     "metadata": {},
     "output_type": "execute_result"
    },
    {
     "data": {
      "image/png": "[encoded data removed]",
      "text/plain": [
       "<Figure size 432x288 with 1 Axes>"
      ]
     },
     "metadata": {
      "needs_background": "light"
     },
     "output_type": "display_data"
    }
   ],
   "source": [
    "# Dificuldade em realizar as questões sobre 'Componente Específico'\n",
    "df.groupby('CO_RS_I2').size().sort_values().plot(kind='barh')\n",
    "\n",
    "# A - Muito Fácil\n",
    "# B - Fácil\n",
    "# C - Médio\n",
    "# D - Difícil\n",
    "# E - Muito Difíl\n",
    "# * - Anulada\n",
    "# . - Não Respondeu"
   ]
  },
  {
   "cell_type": "code",
   "execution_count": 13,
   "metadata": {},
   "outputs": [
    {
     "data": {
      "text/plain": [
       "<matplotlib.axes._subplots.AxesSubplot at 0x7fd014ea3860>"
      ]
     },
     "execution_count": 13,
     "metadata": {},
     "output_type": "execute_result"
    },
    {
     "data": {
      "image/png": "[encoded data removed]",
      "text/plain": [
       "<Figure size 432x288 with 1 Axes>"
      ]
     },
     "metadata": {},
     "output_type": "display_data"
    }
   ],
   "source": [
    "# O que o aluno achou da prova considerando a extensão da mesma em relação ao tempo total\n",
    "df.groupby('CO_RS_I3').size().sort_values().plot(kind='pie', title='O que o aluno achou da prova em relação ao tempo', label=\"Respostas\")\n",
    "\n",
    "# A - Muito Longa\n",
    "# B - Longa\n",
    "# C - Adequada\n",
    "# D - Curta\n",
    "# E - Muito Curta\n",
    "# * - Anulada\n",
    "# . - Não Respondeu"
   ]
  },
  {
   "cell_type": "code",
   "execution_count": 15,
   "metadata": {},
   "outputs": [
    {
     "data": {
      "text/plain": [
       "<matplotlib.axes._subplots.AxesSubplot at 0x7fd014dbe588>"
      ]
     },
     "execution_count": 15,
     "metadata": {},
     "output_type": "execute_result"
    },
    {
     "data": {
      "image/png": "[encoded data removed]",
      "text/plain": [
       "<Figure size 432x288 with 1 Axes>"
      ]
     },
     "metadata": {},
     "output_type": "display_data"
    }
   ],
   "source": [
    "# Os enunciados das questões na parte de conhecimentos na Formação Geral estavm claros e objetivos?\n",
    "df.groupby('CO_RS_I4').size().sort_values().plot(kind='pie', title='Enunciados claros e compreensíveis (Formação Geral)?', label=\"Respostas\")\n",
    "                                                 \n",
    "# A - Sim, todos\n",
    "# B - Sim, maioria\n",
    "# C - Apenas cerca da metade\n",
    "# D - Poucos se apresentam\n",
    "# E - Não, nenhum\n",
    "# * - Resposta Anulada\n",
    "# . - Não Respondeu"
   ]
  },
  {
   "cell_type": "code",
   "execution_count": 22,
   "metadata": {},
   "outputs": [
    {
     "data": {
      "text/plain": [
       "<matplotlib.axes._subplots.AxesSubplot at 0x7fd0111f7f98>"
      ]
     },
     "execution_count": 22,
     "metadata": {},
     "output_type": "execute_result"
    },
    {
     "data": {
      "image/png": "[encoded data removed]",
      "text/plain": [
       "<Figure size 432x288 with 1 Axes>"
      ]
     },
     "metadata": {},
     "output_type": "display_data"
    }
   ],
   "source": [
    "# Os enunciados das questões na parte de conhecimentos no Componente Específico estavm claros e objetivos?\n",
    "df.groupby('CO_RS_I5').size().sort_values().plot(kind='pie', title='Enunciados claros e compreensíveis (Componente Espacífico)?', label=\"Respostas\")\n",
    "\n",
    "# A - Sim, todos\n",
    "# B - Sim, maioria\n",
    "# C - Apenas cerca da metade\n",
    "# D - Poucos se apresentam\n",
    "# E - Não, nenhum\n",
    "# * - Resposta Anulada\n",
    "# . - Não Respondeu"
   ]
  },
  {
   "cell_type": "code",
   "execution_count": 43,
   "metadata": {},
   "outputs": [
    {
     "data": {
      "text/plain": [
       "<matplotlib.axes._subplots.AxesSubplot at 0x7fd010c25f98>"
      ]
     },
     "execution_count": 43,
     "metadata": {},
     "output_type": "execute_result"
    },
    {
     "data": {
      "image/png": "[encoded data removed]",
      "text/plain": [
       "<Figure size 432x288 with 1 Axes>"
      ]
     },
     "metadata": {
      "needs_background": "light"
     },
     "output_type": "display_data"
    }
   ],
   "source": [
    "# Você se deparou com dificuldades ao responder a Prova? Qual?\n",
    "df.groupby('CO_RS_I7').size().sort_values().plot(\n",
    "    kind='bar', \n",
    "    title='Dificuldades ao responder a prova?',\n",
    "    label='DIFICULDADE_PARA_RESPONDER'\n",
    ")\n",
    "\n",
    "# A = Desconhecimento do conteúdo.\n",
    "# B = Forma diferente de abordagem do conteúdo.\n",
    "# C = Espaço insuficiente para responder às questões.\n",
    "# D = Falta de motivação para fazer a prova.\n",
    "# E = Não tive qualquer tipo de dificuldade para responder à prova.\n",
    "# * = Resposta anulada\n",
    "# . = Não respondeu "
   ]
  },
  {
   "cell_type": "code",
   "execution_count": 42,
   "metadata": {},
   "outputs": [
    {
     "data": {
      "text/plain": [
       "<matplotlib.axes._subplots.AxesSubplot at 0x7fd014f18da0>"
      ]
     },
     "execution_count": 42,
     "metadata": {},
     "output_type": "execute_result"
    },
    {
     "data": {
      "image/png": "[encoded data removed]",
      "text/plain": [
       "<Figure size 432x288 with 1 Axes>"
      ]
     },
     "metadata": {},
     "output_type": "display_data"
    }
   ],
   "source": [
    "# Qual foi o tempo gasto para concluir a prova?\n",
    "'''\n",
    "df.groupby('CO_RS_I9').size().sort_values().plot(\n",
    "    kind='bar', \n",
    "    title='Tempo para concluir a prova?',\n",
    "    label='TEMPO_PROVA_GASTO'\n",
    ")\n",
    "'''\n",
    "\n",
    "df['CO_RS_I9'].value_counts().plot.pie(startangle=90)\n",
    "\n",
    "# A - Menos de uma hora\n",
    "# B - Entre uma e Duas horas\n",
    "# C - Entre duas a três horas\n",
    "# D - Entre quatro a três horas\n",
    "# E - Quatro horas e não consegui terminar\n",
    "# * - Resposta Anulada\n",
    "# . - Não Respondeu"
   ]
  },
  {
   "cell_type": "code",
   "execution_count": null,
   "metadata": {},
   "outputs": [],
   "source": []
  }
 ],
 "metadata": {
  "kernelspec": {
   "display_name": "Python 3",
   "language": "python",
   "name": "python3"
  },
  "language_info": {
   "codemirror_mode": {
    "name": "ipython",
    "version": 3
   },
   "file_extension": ".py",
   "mimetype": "text/x-python",
   "name": "python",
   "nbconvert_exporter": "python",
   "pygments_lexer": "ipython3",
   "version": "3.7.3"
  }
 },
 "nbformat": 4,
 "nbformat_minor": 2
}
